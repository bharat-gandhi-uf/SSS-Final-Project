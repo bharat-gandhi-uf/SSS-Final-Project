%pip install scikit-learn


import os
import shutil
import random

# Define paths
base_dir = ""  # Replace with your directory path
train_dir = os.path.join(base_dir, "train")
valid_dir = os.path.join(base_dir, "valid")

# Combined paths for images and labels
combined_images = []
combined_labels = []

# Function to collect files
def collect_files(folder):
    images_path = os.path.join(folder, "images")
    labels_path = os.path.join(folder, "labels")
    
    # Collect image and label file pairs
    images = sorted(os.listdir(images_path))
    labels = sorted(os.listdir(labels_path))
    for img, lbl in zip(images, labels):
        if os.path.splitext(img)[0] == os.path.splitext(lbl)[0]:
            combined_images.append(os.path.join(images_path, img))
            combined_labels.append(os.path.join(labels_path, lbl))
        else:
            raise ValueError(f"Mismatch between image {img} and label {lbl}")

# Collect files from both Train and Valid
collect_files(train_dir)
collect_files(valid_dir)

# Combine, shuffle, and split
data_pairs = list(zip(combined_images, combined_labels))
random.shuffle(data_pairs)
split_idx = int(len(data_pairs) * 0.75)
train_pairs, valid_pairs = data_pairs[:split_idx], data_pairs[split_idx:]

# Create new folders for split data
new_train_dir = os.path.join(base_dir, "New_Train")
new_valid_dir = os.path.join(base_dir, "New_Valid")

for folder in [new_train_dir, new_valid_dir]:
    os.makedirs(os.path.join(folder, "images"), exist_ok=True)
    os.makedirs(os.path.join(folder, "labels"), exist_ok=True)

# Function to save files
def save_files(pairs, base_folder):
    for img_path, lbl_path in pairs:
        shutil.copy(img_path, os.path.join(base_folder, "images", os.path.basename(img_path)))
        shutil.copy(lbl_path, os.path.join(base_folder, "labels", os.path.basename(lbl_path)))

# Save Train and Valid data
save_files(train_pairs, new_train_dir)
save_files(valid_pairs, new_valid_dir)

print("Dataset split and saved successfully!")




