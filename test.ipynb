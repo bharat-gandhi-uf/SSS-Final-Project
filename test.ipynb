{
 "cells": [
  {
   "cell_type": "code",
   "execution_count": 7,
   "id": "169920ab-69af-450f-bc34-03c2037cbb6d",
   "metadata": {
    "tags": []
   },
   "outputs": [],
   "source": [
    "import torch\n",
    "import numpy as np\n",
    "from ultralytics import YOLO\n",
    "from torchmetrics.detection import IntersectionOverUnion\n",
    "import os"
   ]
  },
  {
   "cell_type": "code",
   "execution_count": 2,
   "id": "07b74d70-8c5e-4fb3-87d1-f08657dd7f97",
   "metadata": {
    "tags": []
   },
   "outputs": [],
   "source": [
    "model_detection = YOLO('runs/detect/train10/weights/best.pt')"
   ]
  },
  {
   "cell_type": "code",
   "execution_count": 3,
   "id": "56a40da2-864d-4a37-863a-6e15ceddbf37",
   "metadata": {
    "tags": []
   },
   "outputs": [
    {
     "name": "stdout",
     "output_type": "stream",
     "text": [
      "\n",
      "image 1/5 /blue/eel5840/b.gandhi/Final Project/Training Data/test_new/images/176.jpg: 640x640 1 1, 1 6, 1 7, 7.3ms\n",
      "image 2/5 /blue/eel5840/b.gandhi/Final Project/Training Data/test_new/images/38.jpg: 640x640 1 3, 1 8, 8.6ms\n",
      "image 3/5 /blue/eel5840/b.gandhi/Final Project/Training Data/test_new/images/438.jpg: 640x640 1 3, 1 4, 1 8, 6.9ms\n",
      "image 4/5 /blue/eel5840/b.gandhi/Final Project/Training Data/test_new/images/7.jpg: 640x640 1 7, 6.8ms\n",
      "image 5/5 /blue/eel5840/b.gandhi/Final Project/Training Data/test_new/images/96.jpg: 640x640 2 6s, 1 9, 6.8ms\n",
      "Speed: 2.1ms preprocess, 7.3ms inference, 1.0ms postprocess per image at shape (1, 3, 640, 640)\n",
      "Results saved to \u001b[1mruns/detect/predict19\u001b[0m\n",
      "5 labels saved to runs/detect/predict19/labels\n"
     ]
    }
   ],
   "source": [
    "results_detection = model_detection.predict(source = 'test_new/images', save_txt = True)"
   ]
  },
  {
   "cell_type": "code",
   "execution_count": 4,
   "id": "d5395803-c111-4d22-8e2b-cb84d6d9143d",
   "metadata": {
    "tags": []
   },
   "outputs": [],
   "source": [
    "result_dir = results_detection[0].save_dir"
   ]
  },
  {
   "cell_type": "code",
   "execution_count": 6,
   "id": "e0ecc737-19da-47cb-8486-00238c7932df",
   "metadata": {},
   "outputs": [
    {
     "name": "stdout",
     "output_type": "stream",
     "text": [
      "IoU Score: {'iou': tensor(0.7241)}\n"
     ]
    }
   ],
   "source": [
    "import os\n",
    "import torch\n",
    "from torchmetrics.detection.iou import IntersectionOverUnion\n",
    "\n",
    "def yolo_to_abs_coords(yolo_data, img_width, img_height):\n",
    "    \"\"\"\n",
    "    Convert YOLO (class, x_center, y_center, width, height) to (xmin, ymin, xmax, ymax).\n",
    "    \"\"\"\n",
    "    abs_boxes = []\n",
    "    labels = []\n",
    "    for entry in yolo_data:\n",
    "        cls, x_center, y_center, width, height = entry\n",
    "        xmin = (x_center - width / 2) * img_width\n",
    "        ymin = (y_center - height / 2) * img_height\n",
    "        xmax = (x_center + width / 2) * img_width\n",
    "        ymax = (y_center + height / 2) * img_height\n",
    "        abs_boxes.append([xmin, ymin, xmax, ymax])\n",
    "        labels.append(int(cls))\n",
    "    return torch.tensor(abs_boxes, dtype=torch.float32), torch.tensor(labels, dtype=torch.int64)\n",
    "\n",
    "def parse_yolo_file(file_path):\n",
    "    \"\"\"\n",
    "    Parse a YOLO .txt file into a list of tuples (class, x_center, y_center, width, height).\n",
    "    \"\"\"\n",
    "    with open(file_path, \"r\") as f:\n",
    "        lines = f.readlines()\n",
    "    return [list(map(float, line.strip().split())) for line in lines]\n",
    "\n",
    "def prepare_data(file_paths, img_width, img_height):\n",
    "    \"\"\"\n",
    "    Prepare data for multiple YOLO files into the required format for PyTorch metrics.\n",
    "    \"\"\"\n",
    "    data = []\n",
    "    for file_path in file_paths:\n",
    "        yolo_data = parse_yolo_file(file_path)\n",
    "        boxes, labels = yolo_to_abs_coords(yolo_data, img_width, img_height)\n",
    "        data.append({\"boxes\": boxes, \"labels\": labels})\n",
    "    return data\n",
    "\n",
    "img_width = 640\n",
    "img_height = 640\n",
    "\n",
    "# Directories containing YOLO label files\n",
    "preds_dir = result_dir + \"/labels\"\n",
    "targets_dir = \"test_new/labels\"\n",
    "\n",
    "# Collect all .txt files in directories\n",
    "preds_files = [os.path.join(preds_dir, f) for f in os.listdir(preds_dir) if f.endswith(\".txt\")]\n",
    "targets_files = [os.path.join(targets_dir, f) for f in os.listdir(targets_dir) if f.endswith(\".txt\")]\n",
    "\n",
    "# Ensure the order of files matches (or sort them)\n",
    "preds_files.sort()\n",
    "targets_files.sort()\n",
    "\n",
    "# Prepare prediction and target data\n",
    "preds = prepare_data(preds_files, img_width, img_height)\n",
    "targets = prepare_data(targets_files, img_width, img_height)\n",
    "\n",
    "# Compute IoU using PyTorch metrics\n",
    "iou_metric = IntersectionOverUnion()\n",
    "iou_score = iou_metric(preds, targets)\n",
    "print(f\"IoU Score: {iou_score}\")"
   ]
  },
  {
   "cell_type": "code",
   "execution_count": null,
   "id": "5f3f0dbe-a5ec-401d-9d13-aa1a82e37aed",
   "metadata": {},
   "outputs": [],
   "source": []
  }
 ],
 "metadata": {
  "kernelspec": {
   "display_name": "Yolo-v8",
   "language": "python",
   "name": "yolo-v8"
  },
  "language_info": {
   "codemirror_mode": {
    "name": "ipython",
    "version": 3
   },
   "file_extension": ".py",
   "mimetype": "text/x-python",
   "name": "python",
   "nbconvert_exporter": "python",
   "pygments_lexer": "ipython3",
   "version": "3.8.13"
  }
 },
 "nbformat": 4,
 "nbformat_minor": 5
}
